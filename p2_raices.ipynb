{
 "cells": [
  {
   "cell_type": "code",
   "execution_count": 1,
   "metadata": {},
   "outputs": [
    {
     "name": "stdout",
     "output_type": "stream",
     "text": [
      "Raíces encontradas: [-2.0, 1.0, 1.0, 5.0]\n"
     ]
    }
   ],
   "source": [
    "import numpy as np\n",
    "from scipy.optimize import bisect\n",
    "\n",
    "# Definir el polinomio\n",
    "def polinomio(x):\n",
    "    return x**5 - 6*x**4 + 2*x**3 + 20*x**2 - 27*x + 10\n",
    "\n",
    "# Intervalos donde sospechamos que hay raíces\n",
    "intervalos = [(-2, -1), (-1, 0), (0, 1), (1, 2), (2, 3), (3, 4), (4, 5)]\n",
    "\n",
    "# Encontrar las raíces usando el método de bisección\n",
    "raices = []\n",
    "for intervalo in intervalos:\n",
    "    try:\n",
    "        raiz = bisect(polinomio, *intervalo)\n",
    "        raices.append(raiz)\n",
    "    except ValueError:\n",
    "        # No hay raíz en este intervalo\n",
    "        pass\n",
    "\n",
    "print(\"Raíces encontradas:\", raices)"
   ]
  },
  {
   "cell_type": "code",
   "execution_count": 2,
   "metadata": {},
   "outputs": [
    {
     "name": "stdout",
     "output_type": "stream",
     "text": [
      "Raíces encontradas: [-2.0, 1.0, 1.0, 5.0]\n"
     ]
    }
   ],
   "source": [
    "import numpy as np\n",
    "from scipy.optimize import bisect\n",
    "\n",
    "# Definir el polinomio\n",
    "def polinomio(x):\n",
    "    return x**5 - 6*x**4 + 2*x**3 + 20*x**2 - 27*x + 10\n",
    "\n",
    "# Intervalos donde sospechamos que hay raíces\n",
    "intervalos = [(-2, -1), (-1, 0), (0, 1), (1, 2), (2, 3), (3, 4), (4, 5)]\n",
    "\n",
    "# Encontrar las raíces usando el método de bisección\n",
    "raices = []\n",
    "for intervalo in intervalos:\n",
    "    try:\n",
    "        raiz = bisect(polinomio, *intervalo)\n",
    "        raices.append(raiz)\n",
    "    except ValueError:\n",
    "        # No hay raíz en este intervalo\n",
    "        pass\n",
    "\n",
    "# Imprimir las raíces encontradas\n",
    "print(\"Raíces encontradas:\", raices)"
   ]
  }
 ],
 "metadata": {
  "kernelspec": {
   "display_name": "Python 3",
   "language": "python",
   "name": "python3"
  },
  "language_info": {
   "codemirror_mode": {
    "name": "ipython",
    "version": 3
   },
   "file_extension": ".py",
   "mimetype": "text/x-python",
   "name": "python",
   "nbconvert_exporter": "python",
   "pygments_lexer": "ipython3",
   "version": "3.12.3"
  }
 },
 "nbformat": 4,
 "nbformat_minor": 2
}
